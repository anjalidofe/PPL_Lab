{
 "cells": [
  {
   "cell_type": "code",
   "execution_count": 8,
   "metadata": {},
   "outputs": [],
   "source": [
    "class Animal():\n",
    "    def __init__(self, name, animal_type, legs, sound):\n",
    "        self.name = name\n",
    "        self.age = age \n",
    "        self.legs = legs\n",
    "        self.sound = sound\n",
    "\n",
    "    def speak(self):\n",
    "        print(\"I am\", self.name, \"and I am \", self.animal_type, \"who has\", self.legs, \"legs and makes the sound\", self.sound)\n"
   ]
  },
  {
   "cell_type": "code",
   "execution_count": 10,
   "metadata": {},
   "outputs": [],
   "source": [
    "class Dog(Animal):\n",
    "    def __init__(self, name, animal_type, legs, sound):\n",
    "        self.name = name\n",
    "        self.animal_type = animal_type\n",
    "        self.legs = legs\n",
    "        self.sound = sound\n",
    "        self.type = \"dog\""
   ]
  },
  {
   "cell_type": "code",
   "execution_count": 11,
   "metadata": {},
   "outputs": [
    {
     "name": "stdout",
     "output_type": "stream",
     "text": [
      "I am Mowgli and I am  dog who has 4 legs and makes the sound woof-woof-boww-wooww\n"
     ]
    }
   ],
   "source": [
    "mowgli = Dog(\"Mowgli\", \"dog\", 4, \"woof-woof-boww-wooww\")\n",
    "mowgli.speak()"
   ]
  },
  {
   "cell_type": "code",
   "execution_count": 12,
   "metadata": {},
   "outputs": [],
   "source": [
    "class Cat(Animal):\n",
    "    def __init__(self, name, animal_type, legs, sound):\n",
    "        self.name = name\n",
    "        self.animal_type = animal_type\n",
    "        self.legs = legs\n",
    "        self.sound = sound\n",
    "        self.type = \"cat\""
   ]
  },
  {
   "cell_type": "code",
   "execution_count": 13,
   "metadata": {},
   "outputs": [
    {
     "name": "stdout",
     "output_type": "stream",
     "text": [
      "I am Tommy and I am  cat who has 4 legs and makes the sound meow-meow\n"
     ]
    }
   ],
   "source": [
    "tom = Cat(\"Tommy\", \"cat\", 4, \"meow-meow\")\n",
    "tom.speak()"
   ]
  },
  {
   "cell_type": "code",
   "execution_count": 15,
   "metadata": {},
   "outputs": [],
   "source": [
    "class Frog(Animal):\n",
    "    def __init__(self, name, animal_type, legs, sound):\n",
    "        self.name = name\n",
    "        self.animal_type = animal_type\n",
    "        self.legs = legs\n",
    "        self.sound = sound\n",
    "        self.type = \"frog\""
   ]
  },
  {
   "cell_type": "code",
   "execution_count": 16,
   "metadata": {},
   "outputs": [
    {
     "name": "stdout",
     "output_type": "stream",
     "text": [
      "I am Frog Prince and I am  frog who has 4 legs and makes the sound croak\n"
     ]
    }
   ],
   "source": [
    "prince = Frog(\"Frog Prince\", \"frog\", 4, \"croak\")\n",
    "prince.speak()"
   ]
  },
  {
   "cell_type": "code",
   "execution_count": 17,
   "metadata": {},
   "outputs": [],
   "source": [
    "class Spider(Animal):\n",
    "    def __init__(self, name, animal_type, legs, sound):\n",
    "        self.name = name\n",
    "        self.animal_type = animal_type\n",
    "        self.legs = legs\n",
    "        self.sound = sound\n",
    "        self.type = \"spider\""
   ]
  },
  {
   "cell_type": "code",
   "execution_count": 19,
   "metadata": {},
   "outputs": [
    {
     "name": "stdout",
     "output_type": "stream",
     "text": [
      "I am Hobo and I am  spider who has 8 legs and makes the sound of vibrating and is usually silent\n"
     ]
    }
   ],
   "source": [
    "hobo = Spider(\"Hobo\",\"spider\", 8, \"of vibrating and is usually silent\")\n",
    "hobo.speak()"
   ]
  },
  {
   "cell_type": "code",
   "execution_count": 20,
   "metadata": {},
   "outputs": [],
   "source": [
    "class Cow(Animal):\n",
    "    def __init__(self, name, animal_type, legs, sound):\n",
    "        self.name = name\n",
    "        self.animal_type = animal_type\n",
    "        self.legs = legs\n",
    "        self.sound = sound\n",
    "        self.type = \"cow\""
   ]
  },
  {
   "cell_type": "code",
   "execution_count": 24,
   "metadata": {},
   "outputs": [
    {
     "name": "stdout",
     "output_type": "stream",
     "text": [
      "cow\n",
      "I am Radha and I am  cow who has 4 legs and makes the sound mooooo\n"
     ]
    }
   ],
   "source": [
    "radha = Cow(\"Radha\", \"cow\", 4, \"mooooo\")\n",
    "print(radha.animal_type)\n",
    "radha.speak()"
   ]
  },
  {
   "cell_type": "code",
   "execution_count": 25,
   "metadata": {},
   "outputs": [],
   "source": [
    "class Horse(Animal):\n",
    "    def __init__(self, name, animal_type, legs, sound):\n",
    "        self.name = name\n",
    "        self.animal_type = animal_type\n",
    "        self.legs = legs\n",
    "        self.sound = sound\n",
    "        self.type = \"horse\""
   ]
  },
  {
   "cell_type": "code",
   "execution_count": 27,
   "metadata": {},
   "outputs": [
    {
     "name": "stdout",
     "output_type": "stream",
     "text": [
      "I am Shyaam and I am  horse who has 4 legs and makes the sound snorting\n"
     ]
    }
   ],
   "source": [
    "shyaam = Horse(\"Shyaam\", \"horse\", 4, \"snorting\")\n",
    "shyaam.speak()"
   ]
  },
  {
   "cell_type": "code",
   "execution_count": 28,
   "metadata": {},
   "outputs": [],
   "source": [
    "class Tiger(Animal):\n",
    "    def __init__(self, name, animal_type, legs, sound):\n",
    "        self.name = name\n",
    "        self.animal_type = animal_type\n",
    "        self.legs = legs\n",
    "        self.sound = sound\n",
    "        self.type = \"tiger\""
   ]
  },
  {
   "cell_type": "code",
   "execution_count": 29,
   "metadata": {},
   "outputs": [
    {
     "name": "stdout",
     "output_type": "stream",
     "text": [
      "I am Sherr and I am  tiger who has 4 legs and makes the sound roarrr\n"
     ]
    }
   ],
   "source": [
    "sherr = Tiger(\"Sherr\", \"tiger\", 4, \"roarrr\")\n",
    "sherr.speak()"
   ]
  },
  {
   "cell_type": "code",
   "execution_count": 42,
   "metadata": {},
   "outputs": [],
   "source": [
    "class Ostrich(Animal):\n",
    "    def __init__(self, name, animal_type, legs, sound, wings):\n",
    "        self.name = name\n",
    "        self.animal_type = animal_type\n",
    "        self.legs = legs\n",
    "        self.sound = sound\n",
    "        self.wings = wings\n",
    "        self.type = \"bird\"\n",
    "    def say(self):\n",
    "        print(\"I have\", self.wings)"
   ]
  },
  {
   "cell_type": "code",
   "execution_count": 43,
   "metadata": {},
   "outputs": [
    {
     "name": "stdout",
     "output_type": "stream",
     "text": [
      "I am Osi and I am  ostrich who has 2 legs and makes the sound boom\n",
      "I have wings\n"
     ]
    }
   ],
   "source": [
    "osi = Ostrich(\"Osi\", \"ostrich\", 2, \"boom\", \"wings\")\n",
    "osi.speak()\n",
    "osi.say()"
   ]
  },
  {
   "cell_type": "code",
   "execution_count": 45,
   "metadata": {},
   "outputs": [],
   "source": [
    "class Duck(Ostrich):\n",
    "    def __init__(self, name, animal_type, legs, sound, wings):\n",
    "        self.name = name\n",
    "        self.animal_type = animal_type\n",
    "        self.legs = legs\n",
    "        self.sound = sound\n",
    "        self.wings = wings\n",
    "        self.type = \"duck\""
   ]
  },
  {
   "cell_type": "code",
   "execution_count": 46,
   "metadata": {},
   "outputs": [
    {
     "name": "stdout",
     "output_type": "stream",
     "text": [
      "I am Donald and I am  duck who has 2 legs and makes the sound quack-quack\n",
      "I have wings\n"
     ]
    }
   ],
   "source": [
    "donald = Duck(\"Donald\",\"duck\", 2, \"quack-quack\", \"wings\" )\n",
    "donald.speak()\n",
    "donald.say()"
   ]
  },
  {
   "cell_type": "code",
   "execution_count": 47,
   "metadata": {},
   "outputs": [],
   "source": [
    "class Snake(Animal):\n",
    "    def __init__(self, name, animal_type, legs, sound):\n",
    "        self.name = name\n",
    "        self.animal_type = animal_type\n",
    "        self.legs = legs\n",
    "        self.sound = sound\n",
    "        self.type = \"snake\""
   ]
  },
  {
   "cell_type": "code",
   "execution_count": 48,
   "metadata": {},
   "outputs": [
    {
     "name": "stdout",
     "output_type": "stream",
     "text": [
      "I am Russel and I am  snake who has no legs and makes the sound hisssssss\n"
     ]
    }
   ],
   "source": [
    "russel = Snake(\"Russel\", \"snake\", \"no\", \"hisssssss\")\n",
    "russel.speak()"
   ]
  },
  {
   "cell_type": "code",
   "execution_count": null,
   "metadata": {},
   "outputs": [],
   "source": []
  }
 ],
 "metadata": {
  "kernelspec": {
   "display_name": "Python 3",
   "language": "python",
   "name": "python3"
  },
  "language_info": {
   "codemirror_mode": {
    "name": "ipython",
    "version": 3
   },
   "file_extension": ".py",
   "mimetype": "text/x-python",
   "name": "python",
   "nbconvert_exporter": "python",
   "pygments_lexer": "ipython3",
   "version": "3.8.3"
  }
 },
 "nbformat": 4,
 "nbformat_minor": 4
}

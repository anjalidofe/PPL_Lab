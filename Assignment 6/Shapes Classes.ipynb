{
 "cells": [
  {
   "cell_type": "code",
   "execution_count": 18,
   "metadata": {},
   "outputs": [],
   "source": [
    "import turtle"
   ]
  },
  {
   "cell_type": "code",
   "execution_count": 19,
   "metadata": {},
   "outputs": [],
   "source": [
    "s = turtle.getscreen()\n",
    "\n",
    "t = turtle.Turtle()"
   ]
  },
  {
   "cell_type": "code",
   "execution_count": 20,
   "metadata": {},
   "outputs": [],
   "source": [
    "class shape:\n",
    "\n",
    "    def __init__(self, sides = 0, length = 0) :\n",
    "\n",
    "        self.sides = sides\n",
    "\n",
    "        self.length = length"
   ]
  },
  {
   "cell_type": "code",
   "execution_count": 21,
   "metadata": {},
   "outputs": [],
   "source": [
    "class polygon(shape):\n",
    "\n",
    "    def info(self):\n",
    "\n",
    "        print(\"In geometry, a polygon can be defined as a flat or plane, two-dimensional with straight sides.\")"
   ]
  },
  {
   "cell_type": "code",
   "execution_count": 22,
   "metadata": {},
   "outputs": [],
   "source": [
    "class square(polygon):\n",
    "\n",
    "    def show(self):\n",
    "\n",
    "        t.fd(self.length)\n",
    "\n",
    "        t.rt(90)\n",
    "\n",
    "        t.fd(self.length)\n",
    "\n",
    "        t.rt(90)\n",
    "\n",
    "        t.fd(self.length)\n",
    "\n",
    "        t.rt(90)\n",
    "\n",
    "        t.fd(self.length)\n",
    "\n",
    "        t.rt(90)"
   ]
  },
  {
   "cell_type": "code",
   "execution_count": 23,
   "metadata": {},
   "outputs": [],
   "source": [
    "class pentagon(polygon):\n",
    "\n",
    "    def show(self):\n",
    "\n",
    "        for i in range(5):\n",
    "\n",
    "            t.forward(self.length)\n",
    "\n",
    "            t.right(72)"
   ]
  },
  {
   "cell_type": "code",
   "execution_count": 24,
   "metadata": {},
   "outputs": [],
   "source": [
    "class hexagon(polygon):\n",
    "\n",
    "    def show(self):\n",
    "\n",
    "        for i in range(6):\n",
    "\n",
    "            t.forward(self.length)\n",
    "\n",
    "            t.right(60)"
   ]
  },
  {
   "cell_type": "code",
   "execution_count": 25,
   "metadata": {},
   "outputs": [],
   "source": [
    "class octagon(polygon):\n",
    "\n",
    "    def show(self):\n",
    "\n",
    "        for i in range(6):\n",
    "\n",
    "            t.forward(self.length)\n",
    "\n",
    "            t.right(45)"
   ]
  },
  {
   "cell_type": "code",
   "execution_count": 26,
   "metadata": {},
   "outputs": [],
   "source": [
    "class triangle(polygon):\n",
    "\n",
    "    def show(self):\n",
    "\n",
    "        t.forward(self.length)\n",
    "\n",
    "        t.left(120)\n",
    "\n",
    "        t.forward(self.length)\n",
    "\n",
    "        t.left(120)\n",
    "\n",
    "        t.forward(self.length)"
   ]
  },
  {
   "cell_type": "code",
   "execution_count": 27,
   "metadata": {},
   "outputs": [
    {
     "name": "stdout",
     "output_type": "stream",
     "text": [
      "In geometry, a polygon can be defined as a flat or plane, two-dimensional with straight sides.\n"
     ]
    }
   ],
   "source": [
    "hex1 = hexagon(6, 100)\n",
    "\n",
    "hex1.info()\n",
    "\n",
    "hex1.show()"
   ]
  },
  {
   "cell_type": "code",
   "execution_count": null,
   "metadata": {},
   "outputs": [],
   "source": []
  }
 ],
 "metadata": {
  "kernelspec": {
   "display_name": "Python 3",
   "language": "python",
   "name": "python3"
  },
  "language_info": {
   "codemirror_mode": {
    "name": "ipython",
    "version": 3
   },
   "file_extension": ".py",
   "mimetype": "text/x-python",
   "name": "python",
   "nbconvert_exporter": "python",
   "pygments_lexer": "ipython3",
   "version": "3.8.3"
  }
 },
 "nbformat": 4,
 "nbformat_minor": 4
}

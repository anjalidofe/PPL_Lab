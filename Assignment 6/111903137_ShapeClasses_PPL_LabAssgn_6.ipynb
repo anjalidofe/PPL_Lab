{
 "cells": [
  {
   "cell_type": "code",
   "execution_count": 17,
   "metadata": {},
   "outputs": [],
   "source": [
    "class Shape():\n",
    "    def __init__(self, name, sides, sum_angles):\n",
    "        self.name = name\n",
    "        self.sides = sides\n",
    "        self.sum_angles = sum_angles\n",
    "    def description(self):\n",
    "        print('A', self.name, 'has', self.sides, 'sides and sum of its angles is', self.sum_angles, 'degrees')"
   ]
  },
  {
   "cell_type": "code",
   "execution_count": 40,
   "metadata": {},
   "outputs": [],
   "source": [
    "class Polygon(Shape):\n",
    "    def __init__(self, name, sides, sum_angles):\n",
    "        self.name = name\n",
    "        self.sides = sides\n",
    "        self.sum_angles = sum_angles\n",
    "    def special(self):\n",
    "        print('It can be regular or irregular.')\n",
    "\n",
    "    "
   ]
  },
  {
   "cell_type": "code",
   "execution_count": 41,
   "metadata": {},
   "outputs": [
    {
     "name": "stdout",
     "output_type": "stream",
     "text": [
      "A pentagon has 5 sides and sum of its angles is 540 degrees\n",
      "It can be regular or irregular.\n"
     ]
    }
   ],
   "source": [
    "pent = Polygon(\"pentagon\", 5, 540)\n",
    "pent.description()\n",
    "pent.special()"
   ]
  },
  {
   "cell_type": "code",
   "execution_count": 42,
   "metadata": {},
   "outputs": [
    {
     "name": "stdout",
     "output_type": "stream",
     "text": [
      "A hexagon has 6 sides and sum of its angles is 720 degrees\n",
      "It can be regular or irregular.\n"
     ]
    }
   ],
   "source": [
    "hex = Polygon(\"hexagon\", 6, 720)\n",
    "hex.description()\n",
    "hex.special()\n",
    "\n",
    "    "
   ]
  },
  {
   "cell_type": "code",
   "execution_count": 43,
   "metadata": {},
   "outputs": [
    {
     "name": "stdout",
     "output_type": "stream",
     "text": [
      "A octagon has 8 sides and sum of its angles is 1080 degrees\n",
      "It can be regular or irregular.\n"
     ]
    }
   ],
   "source": [
    "oct = Polygon(\"octagon\", 8, 1080)\n",
    "oct.description()\n",
    "oct.special()"
   ]
  },
  {
   "cell_type": "code",
   "execution_count": 21,
   "metadata": {},
   "outputs": [],
   "source": [
    "class Rectangle(Shape):\n",
    "    def __init__(self, name, sides, sum_angles, length, breadth):\n",
    "        self.name = name\n",
    "        self.sides = sides\n",
    "        self.sum_angles = sum_angles\n",
    "        self.length = length\n",
    "        self.breadth = breadth\n",
    "    def getArea(self):\n",
    "        print('Area is', self.length*self.breadth, 'sq units')\n",
    "    def getPerimeter(self):\n",
    "        print(2*(self.length+self.breadth), 'units is perimeter')\n",
    "    def special(self):\n",
    "        print('Opposite sides are equal and all angles are equal and are 90 degrees each')\n"
   ]
  },
  {
   "cell_type": "code",
   "execution_count": 22,
   "metadata": {},
   "outputs": [
    {
     "name": "stdout",
     "output_type": "stream",
     "text": [
      "A rectangle has 4 sides and sum of its angles is 360 degrees\n",
      "Opposite sides are equal and all angles are equal and are 90 degrees each\n",
      "Area is 8 sq units\n",
      "12 units is perimeter\n"
     ]
    }
   ],
   "source": [
    "a = Rectangle(\"rectangle\", 4, 360, 2, 4)\n",
    "a.description()\n",
    "a.special()\n",
    "a.getArea()\n",
    "a.getPerimeter()\n"
   ]
  },
  {
   "cell_type": "code",
   "execution_count": 23,
   "metadata": {},
   "outputs": [],
   "source": [
    "class Square(Shape):\n",
    "    def __init__(self, name, sides, sum_angles, side):\n",
    "        self.name = name\n",
    "        self.sides = sides\n",
    "        self.sum_angles = sum_angles\n",
    "        self.side = side\n",
    "    def getArea(self):\n",
    "        print('Area is', self.side*self.side, 'sq units')\n",
    "    def getPerimeter(self):\n",
    "        print(4*(self.side), 'units is perimeter')\n",
    "    def special(self):\n",
    "        print('All sides have same length and all angles are equal')\n"
   ]
  },
  {
   "cell_type": "code",
   "execution_count": 25,
   "metadata": {},
   "outputs": [
    {
     "name": "stdout",
     "output_type": "stream",
     "text": [
      "A square has 4 sides and sum of its angles is 360 degrees\n",
      "All sides have same length and all angles are equal\n",
      "Area is 25 sq units\n",
      "20 units is perimeter\n"
     ]
    }
   ],
   "source": [
    "b = Square(\"square\", 4, 360, 5)\n",
    "b.description()\n",
    "b.special()\n",
    "b.getArea()\n",
    "b.getPerimeter()\n"
   ]
  },
  {
   "cell_type": "code",
   "execution_count": 26,
   "metadata": {},
   "outputs": [],
   "source": [
    "class Circle(Shape):\n",
    "    def __init__(self, name, sides, sum_angles, radius):\n",
    "        self.name = name\n",
    "        self.sides = sides\n",
    "        self.sum_angles = sum_angles\n",
    "        self.radius = radius\n",
    "    def getArea(self):\n",
    "        print('Area is', self.radius*3.14*self.radius, 'sq units')\n",
    "    def getPerimeter(self):\n",
    "        print(2*(self.radius)*3.14, 'units is perimeter')\n",
    "    def special(self):\n",
    "        print('A circle has Constant diameter and radius')\n"
   ]
  },
  {
   "cell_type": "code",
   "execution_count": 27,
   "metadata": {},
   "outputs": [
    {
     "name": "stdout",
     "output_type": "stream",
     "text": [
      "A circle has no sides or infinite sides and sum of its angles is 360 degrees\n",
      "A circle has Constant diameter and radius\n",
      "Area is 12.56 sq units\n",
      "12.56 units is perimeter\n"
     ]
    }
   ],
   "source": [
    "c = Circle(\"circle\", \"no sides or infinite\", 360, 2)\n",
    "c.description()\n",
    "c.special()\n",
    "c.getArea()\n",
    "c.getPerimeter()\n"
   ]
  },
  {
   "cell_type": "code",
   "execution_count": 28,
   "metadata": {},
   "outputs": [],
   "source": [
    "class Triangle(Shape):\n",
    "    def __init__(self, name, sides, sum_angles, side1, side2, side3):\n",
    "        self.name = name\n",
    "        self.sides = sides\n",
    "        self.sum_angles = sum_angles\n",
    "        self.side1 = side1\n",
    "        self.side2 = side2\n",
    "        self.side3 = side3\n",
    "    def getPerimeter(self):\n",
    "        print(self.side3 + self.side2 + self.side1, 'units is perimeter')\n",
    "    def special(self):\n",
    "        print('Triangle can have no, 2(isoscleles) or 3(equilateral) equal sides.')\n"
   ]
  },
  {
   "cell_type": "code",
   "execution_count": 29,
   "metadata": {},
   "outputs": [
    {
     "name": "stdout",
     "output_type": "stream",
     "text": [
      "A triangle has 3 sides and sum of its angles is 180 degrees\n",
      "Triangle can have no, 2(isoscleles) or 3(equilateral) equal sides.\n",
      "15 units is perimeter\n"
     ]
    }
   ],
   "source": [
    "d = Triangle(\"triangle\", 3, 180, 4, 5, 6)\n",
    "d.description()\n",
    "d.special()\n",
    "d.getPerimeter()\n"
   ]
  },
  {
   "cell_type": "code",
   "execution_count": 48,
   "metadata": {},
   "outputs": [],
   "source": [
    "class Rhombus(Shape):\n",
    "    def __init__(self, name, sides, sum_angles, side):\n",
    "        self.name = name\n",
    "        self.sides = sides\n",
    "        self.sum_angles = sum_angles\n",
    "        self.side = side\n",
    "    def getArea(self):\n",
    "        print('Area of rhombus is given by formula p*q/2 where p and q are its diagonals')\n",
    "    def getPerimeter(self):\n",
    "        print(4*(self.side), 'units is perimeter')\n",
    "    def special(self):\n",
    "        print('All sides have same length and 2 pairs of equal angles and rhombus is superclass of square but in rhombus all angles may not necesarrily be equal')\n",
    "\n",
    "    "
   ]
  },
  {
   "cell_type": "code",
   "execution_count": 49,
   "metadata": {},
   "outputs": [
    {
     "name": "stdout",
     "output_type": "stream",
     "text": [
      "A rhombus has 4 sides and sum of its angles is 360 degrees\n",
      "All sides have same length and 2 pairs of equal angles and rhombus is superclass of square but in rhombus all angles may not necesarrily be equal\n",
      "Area of rhombus is given by formula p*q/2 where p and q are its diagonals\n",
      "20 units is perimeter\n"
     ]
    }
   ],
   "source": [
    "ro =Rhombus(\"rhombus\", 4, 360, 5)\n",
    "ro.description()\n",
    "ro.special()\n",
    "ro.getArea()\n",
    "ro.getPerimeter()\n"
   ]
  },
  {
   "cell_type": "code",
   "execution_count": 53,
   "metadata": {},
   "outputs": [],
   "source": [
    "class Parallelogram(Shape):\n",
    "     def __init__(self, name, sides, sum_angles, length, breadth):\n",
    "         self.name = name\n",
    "         self.sides = sides\n",
    "         self.sum_angles = sum_angles\n",
    "         self.length = length\n",
    "         self.breadth = breadth\n",
    "     def getArea(self):\n",
    "         print('Area of parallelogram is given by formula b*h where h is height and b is base of parallelogram ')\n",
    "     def getPerimeter(self):\n",
    "         print(2*(self.length + self.breadth), 'units is perimeter')\n",
    "     def special(self):\n",
    "         print('Opposite sides have same length and 2 sets of equal angles')\n",
    "    "
   ]
  },
  {
   "cell_type": "code",
   "execution_count": 54,
   "metadata": {},
   "outputs": [
    {
     "name": "stdout",
     "output_type": "stream",
     "text": [
      "A parallelogram has 4 sides and sum of its angles is 360 degrees\n",
      "Opposite sides have same length and 2 sets of equal angles\n",
      "60 units is perimeter\n",
      "Area of parallelogram is given by formula b*h where h is height and b is base of parallelogram \n"
     ]
    }
   ],
   "source": [
    "par= Parallelogram(\"parallelogram\", 4, 360, 20, 10)\n",
    "par.description()\n",
    "par.special()\n",
    "par.getPerimeter()\n",
    "par.getArea()"
   ]
  },
  {
   "cell_type": "code",
   "execution_count": 59,
   "metadata": {},
   "outputs": [],
   "source": [
    "class Trapezium(Shape):\n",
    "    def __init__(self, name, sides, sum_angles):\n",
    "        self.name = name\n",
    "        self.sides = sides\n",
    "        self.sum_angles = sum_angles\n",
    "    def area(self):\n",
    "        print(\"Formula to find area of trapezium is 0.5*(a+b)*h where h is the height and a and b are parallel sides\")\n",
    "    def special(self):\n",
    "        print('It has at least 2 parallel sides')"
   ]
  },
  {
   "cell_type": "code",
   "execution_count": 60,
   "metadata": {},
   "outputs": [
    {
     "name": "stdout",
     "output_type": "stream",
     "text": [
      "A trapezium has 4 sides and sum of its angles is 360 degrees\n",
      "Formula to find area of trapezium is 0.5*(a+b)*h where h is the height and a and b are parallel sides\n",
      "It has at least 2 parallel sides\n"
     ]
    }
   ],
   "source": [
    "trap = Trapezium(\"trapezium\", 4, 360)\n",
    "trap.description()\n",
    "trap.area()\n",
    "trap.special()"
   ]
  },
  {
   "cell_type": "code",
   "execution_count": null,
   "metadata": {},
   "outputs": [],
   "source": []
  }
 ],
 "metadata": {
  "kernelspec": {
   "display_name": "Python 3",
   "language": "python",
   "name": "python3"
  },
  "language_info": {
   "codemirror_mode": {
    "name": "ipython",
    "version": 3
   },
   "file_extension": ".py",
   "mimetype": "text/x-python",
   "name": "python",
   "nbconvert_exporter": "python",
   "pygments_lexer": "ipython3",
   "version": "3.8.3"
  }
 },
 "nbformat": 4,
 "nbformat_minor": 4
}
